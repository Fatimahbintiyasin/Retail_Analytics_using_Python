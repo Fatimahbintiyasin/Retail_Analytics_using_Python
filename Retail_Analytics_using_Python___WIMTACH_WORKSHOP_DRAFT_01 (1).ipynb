{
  "cells": [
    {
      "cell_type": "markdown",
      "metadata": {
        "id": "cctXjgb_06Ja"
      },
      "source": [
        "<p style=\"font-family: Arial; font-size:2.5em;color:green;\"> WIMTACH WORKSHOP </p>\n",
        "<p style=\"font-family: Arial; font-size:2.5em;color:orange;\"> Retail Analytics Using Python </p>"
      ]
    },
    {
      "cell_type": "markdown",
      "metadata": {
        "id": "oDyNV7kP06Jb"
      },
      "source": [
        "## Data: Superstore Data "
      ]
    },
    {
      "cell_type": "markdown",
      "metadata": {
        "id": "xbHWFrRe06Jc"
      },
      "source": [
        "##### Import Libraries"
      ]
    },
    {
      "cell_type": "code",
      "execution_count": null,
      "metadata": {
        "id": "j9hrRe0r1yMp"
      },
      "outputs": [],
      "source": [
        "!pip install squarify"
      ]
    },
    {
      "cell_type": "code",
      "execution_count": null,
      "metadata": {
        "id": "honbYTXB06Jc"
      },
      "outputs": [],
      "source": [
        "# Import Libarires\n",
        "import pandas as pd\n",
        "import numpy as np\n",
        "import datetime as dt\n",
        "import matplotlib.pyplot as plt\n",
        "import seaborn as sns\n",
        "import squarify\n"
      ]
    },
    {
      "cell_type": "markdown",
      "metadata": {
        "id": "TD6boUQi06Je"
      },
      "source": [
        "###### Import Data"
      ]
    },
    {
      "cell_type": "code",
      "execution_count": null,
      "metadata": {
        "id": "ay_HiLKj06Je"
      },
      "outputs": [],
      "source": [
        "data= pd.read_excel('superstore.xls')\n",
        "data.head()"
      ]
    },
    {
      "cell_type": "markdown",
      "metadata": {
        "id": "93d2An9n06Jf"
      },
      "source": [
        "##### Shape of the Data"
      ]
    },
    {
      "cell_type": "code",
      "source": [
        "data.shape"
      ],
      "metadata": {
        "id": "VLlRl3EpQvaT"
      },
      "execution_count": null,
      "outputs": []
    },
    {
      "cell_type": "code",
      "execution_count": null,
      "metadata": {
        "id": "HVBFFY4p06Jg"
      },
      "outputs": [],
      "source": [
        "\n",
        "print(\"Number of attrtibutes or variables\",data.shape[1])\n",
        "print(\"Number of customers\",data.shape[0])"
      ]
    },
    {
      "cell_type": "code",
      "execution_count": null,
      "metadata": {
        "id": "N-hEekpn06Jh"
      },
      "outputs": [],
      "source": []
    },
    {
      "cell_type": "markdown",
      "metadata": {
        "id": "rT-5BMlV06Ji"
      },
      "source": [
        "## List of Variables"
      ]
    },
    {
      "cell_type": "code",
      "execution_count": null,
      "metadata": {
        "id": "0dAcB86j-Pev"
      },
      "outputs": [],
      "source": [
        "data.columns"
      ]
    },
    {
      "cell_type": "markdown",
      "metadata": {
        "id": "qtBymWJ606Jj"
      },
      "source": [
        "### Descriptive  Statistics"
      ]
    },
    {
      "cell_type": "code",
      "execution_count": null,
      "metadata": {
        "id": "laV86JZ1-YQ8"
      },
      "outputs": [],
      "source": [
        "data.describe()"
      ]
    },
    {
      "cell_type": "markdown",
      "metadata": {
        "id": "_fupVX5P06Jk"
      },
      "source": [
        "### Data Types"
      ]
    },
    {
      "cell_type": "code",
      "execution_count": null,
      "metadata": {
        "id": "7EGd0l4_06Jk"
      },
      "outputs": [],
      "source": [
        "data.info()"
      ]
    },
    {
      "cell_type": "markdown",
      "metadata": {
        "id": "YzNqCevy06Jk"
      },
      "source": [
        "###  Missing Values In Percentage"
      ]
    },
    {
      "cell_type": "code",
      "execution_count": null,
      "metadata": {
        "id": "YB5zfWcE06Jk"
      },
      "outputs": [],
      "source": [
        "m=pd.DataFrame(((data.isnull().sum())/len(data))*100).reset_index()\n",
        "m.columns=['Attributes','Percentage of Missing']\n",
        "m"
      ]
    },
    {
      "cell_type": "code",
      "execution_count": null,
      "metadata": {
        "id": "W3DhoNm206Jl"
      },
      "outputs": [],
      "source": []
    },
    {
      "cell_type": "markdown",
      "metadata": {
        "id": "IIQWbf1m06Jl"
      },
      "source": [
        "## Exttracting Month and Year from Ship Date"
      ]
    },
    {
      "cell_type": "code",
      "execution_count": null,
      "metadata": {
        "id": "qQw4AaWg06Jl"
      },
      "outputs": [],
      "source": [
        "data['Month']= pd.DatetimeIndex(data['Ship Date']).month\n",
        "data['Year']= pd.DatetimeIndex(data['Ship Date']).year"
      ]
    },
    {
      "cell_type": "code",
      "execution_count": null,
      "metadata": {
        "id": "himHexP306Jm"
      },
      "outputs": [],
      "source": [
        "data.columns"
      ]
    },
    {
      "cell_type": "code",
      "execution_count": null,
      "metadata": {
        "id": "xa_c4T6ACbrr"
      },
      "outputs": [],
      "source": [
        " data['Order Date'].dt.day_name()"
      ]
    },
    {
      "cell_type": "code",
      "execution_count": null,
      "metadata": {
        "id": "9GyvwWoF06Jm"
      },
      "outputs": [],
      "source": []
    },
    {
      "cell_type": "markdown",
      "metadata": {
        "id": "_Prgktmy06Jm"
      },
      "source": [
        "### Exploring  Sales"
      ]
    },
    {
      "cell_type": "markdown",
      "metadata": {
        "id": "1Yha5BJb06Jm"
      },
      "source": [
        "#### Checking outliers"
      ]
    },
    {
      "cell_type": "code",
      "execution_count": null,
      "metadata": {
        "id": "RqRrCyK806Jn"
      },
      "outputs": [],
      "source": [
        "dt_sales= data[['Ship Date','Sales']].set_index('Ship Date')\n",
        "dt_sales.plot()"
      ]
    },
    {
      "cell_type": "markdown",
      "metadata": {
        "id": "N7UZISw206Jn"
      },
      "source": [
        "### Removing Outliers"
      ]
    },
    {
      "cell_type": "code",
      "execution_count": null,
      "metadata": {
        "id": "wKbDP8Su06Jn"
      },
      "outputs": [],
      "source": [
        "# outliers = data[data['SalesAmount'] > (data['SalesAmount'].mean() + (3 * data['SalesAmount'].std()))] \n",
        "# outliers2 = data[data['SalesAmount'] < (data['SalesAmount'].mean() - (3 * data['SalesAmount'].std()))]\n",
        "\n",
        "#removing outliers from data:\n",
        "print(data['Sales'].mean(), data['Sales'].std(), data['Sales'].mean() - 3 * data['Sales'].std(), data['Sales'].mean() + 3 * data['Sales'].std())\n",
        "data = data[data['Sales'] < (data['Sales'].mean() + (3 * data['Sales'].std()))] \n",
        "data = data[data['Sales'] > (data['Sales'].mean() - (3 * data['Sales'].std()))]"
      ]
    },
    {
      "cell_type": "code",
      "execution_count": null,
      "metadata": {
        "id": "PFdF-vDf06Jo"
      },
      "outputs": [],
      "source": [
        "dt_sales2= data[['Ship Date','Sales']].set_index('Ship Date')\n",
        "\n",
        "dt_sales2.plot()"
      ]
    },
    {
      "cell_type": "code",
      "execution_count": null,
      "metadata": {
        "id": "Dos2YMlS06Jo"
      },
      "outputs": [],
      "source": []
    },
    {
      "cell_type": "raw",
      "metadata": {
        "id": "DrS8fbJh06Jo"
      },
      "source": []
    },
    {
      "cell_type": "markdown",
      "metadata": {
        "id": "NFNz_sa-06Jo"
      },
      "source": [
        "### Year and Month  Wise Sales"
      ]
    },
    {
      "cell_type": "code",
      "execution_count": null,
      "metadata": {
        "id": "fFOpy3Ii06Jo"
      },
      "outputs": [],
      "source": [
        "data.groupby(data.Year).sum()['Sales']"
      ]
    },
    {
      "cell_type": "code",
      "execution_count": null,
      "metadata": {
        "id": "ZNnhGknb06Jp"
      },
      "outputs": [],
      "source": [
        "data.groupby(data.Year).sum()['Sales'].plot(kind='bar')"
      ]
    },
    {
      "cell_type": "code",
      "execution_count": null,
      "metadata": {
        "id": "e3pvuowh06Jp"
      },
      "outputs": [],
      "source": [
        "data.groupby(data.Month).sum()['Sales']"
      ]
    },
    {
      "cell_type": "code",
      "execution_count": null,
      "metadata": {
        "id": "sPEehhp_06Jp"
      },
      "outputs": [],
      "source": [
        "data.groupby(data.Month).sum()['Sales'].plot(kind='bar')"
      ]
    },
    {
      "cell_type": "code",
      "execution_count": null,
      "metadata": {
        "id": "FSGcIx4N06Jp"
      },
      "outputs": [],
      "source": []
    },
    {
      "cell_type": "markdown",
      "metadata": {
        "id": "UvqyvRAN06Jp"
      },
      "source": [
        "### Product Category wise Sales in Percentage"
      ]
    },
    {
      "cell_type": "code",
      "execution_count": null,
      "metadata": {
        "id": "3cRPABM206Jq"
      },
      "outputs": [],
      "source": [
        "data.columns"
      ]
    },
    {
      "cell_type": "code",
      "execution_count": null,
      "metadata": {
        "id": "iiNdQ5C306Jq"
      },
      "outputs": [],
      "source": [
        "dk = data.groupby(['Category']).agg({'Sales':np.sum}).reset_index()\n",
        "fig1 = plt.figure(figsize =(10, 7)) \n",
        "plt.pie(dk.Sales, labels = dk.Category,autopct='%1.3f%%')\n",
        "# show plot \n",
        "plt.show() \n",
        "\n"
      ]
    },
    {
      "cell_type": "code",
      "execution_count": null,
      "metadata": {
        "id": "-g4NLm5W06Jq"
      },
      "outputs": [],
      "source": [
        "# Category\n",
        "di=dk.sort_values('Sales')\n",
        "fig2 = plt.figure(figsize = (10, 5)) \n",
        "plt.bar(di.Category, di.Sales, color ='green', width = 0.4)\n",
        "plt.xlabel(\"Categories\") \n",
        "plt.ylabel(\"Total Sales\")  \n",
        "# show plot \n",
        "plt.show()"
      ]
    },
    {
      "cell_type": "markdown",
      "metadata": {
        "id": "18aOb5Gz06Jq"
      },
      "source": [
        "### Week Day Wise Sales "
      ]
    },
    {
      "cell_type": "code",
      "execution_count": null,
      "metadata": {
        "id": "lH8MJmeD06Jr"
      },
      "outputs": [],
      "source": [
        "dj = data.groupby(['Order Date', 'Order ID']).size()\n",
        "new_df = dj.to_frame(name = 'size').reset_index()\n",
        "new_df['NumberofOrders']=1\n",
        "new_df['day_of_week'] = new_df['Order Date'].dt.day_name()\n",
        "\n",
        "dataSales = new_df.groupby('day_of_week')['NumberofOrders'].agg('sum').reset_index()\n",
        "dataSales = dataSales.loc[[1,5,6,4,0,2,3], :]\n",
        "\n",
        "# #plotting bar chart\n",
        "fig = plt.figure(figsize = (15, 5)) \n",
        "plt.bar(dataSales.day_of_week, dataSales.NumberofOrders, color ='maroon', width = 0.6)\n",
        "plt.xlabel(\"Day of week\") \n",
        "plt.ylabel(\"Total orders\") \n",
        "plt.show()"
      ]
    },
    {
      "cell_type": "code",
      "execution_count": null,
      "metadata": {
        "id": "avSRGkEzCF2X"
      },
      "outputs": [],
      "source": [
        "new_df"
      ]
    },
    {
      "cell_type": "code",
      "execution_count": null,
      "metadata": {
        "id": "O49OwwY8DRD7"
      },
      "outputs": [],
      "source": [
        "dataSales"
      ]
    },
    {
      "cell_type": "markdown",
      "metadata": {
        "id": "zUVS9m7U06Jr"
      },
      "source": [
        "## Count of Sales per Year"
      ]
    },
    {
      "cell_type": "code",
      "execution_count": null,
      "metadata": {
        "id": "_gPnV8pJ06Jr"
      },
      "outputs": [],
      "source": [
        "data.groupby('Year')['Order ID'].count()"
      ]
    },
    {
      "cell_type": "code",
      "execution_count": null,
      "metadata": {
        "id": "ZjdsLtim06Jr"
      },
      "outputs": [],
      "source": [
        "data.groupby('Year')['Order ID'].count().plot(kind= 'bar')"
      ]
    },
    {
      "cell_type": "code",
      "execution_count": null,
      "metadata": {
        "id": "V7ExWZ2g06Js"
      },
      "outputs": [],
      "source": []
    },
    {
      "cell_type": "markdown",
      "metadata": {
        "id": "CzTOrSDt06Js"
      },
      "source": [
        "# Region wise analysis"
      ]
    },
    {
      "cell_type": "code",
      "execution_count": null,
      "metadata": {
        "id": "D-lom7pg06Js"
      },
      "outputs": [],
      "source": [
        "data['Region'].unique()"
      ]
    },
    {
      "cell_type": "code",
      "execution_count": null,
      "metadata": {
        "id": "RTioMDvC06Js"
      },
      "outputs": [],
      "source": [
        "data.groupby('Region')['Sales'].sum().plot(kind='bar')"
      ]
    },
    {
      "cell_type": "markdown",
      "metadata": {
        "id": "JVe_OP9H06Js"
      },
      "source": [
        "## Group by using Year and Category"
      ]
    },
    {
      "cell_type": "code",
      "execution_count": null,
      "metadata": {
        "id": "ikT2BYYr06Js"
      },
      "outputs": [],
      "source": [
        "data.groupby(['Year','Category'])['Sales'].sum().reset_index()"
      ]
    },
    {
      "cell_type": "markdown",
      "metadata": {
        "id": "Up29-lyS06Jt"
      },
      "source": [
        "## Pivot Table for Sales across Year and Category"
      ]
    },
    {
      "cell_type": "code",
      "execution_count": null,
      "metadata": {
        "id": "S3zoODrd06Jt"
      },
      "outputs": [],
      "source": [
        "pd.pivot_table(data, values='Sales',index='Year',columns=['Category'],aggfunc= np.sum).reset_index()"
      ]
    },
    {
      "cell_type": "code",
      "execution_count": null,
      "metadata": {
        "id": "FdZvukNB06Jt"
      },
      "outputs": [],
      "source": [
        "table= pd.pivot_table(data, values='Sales',index='Year',columns=['Category'],aggfunc= np.sum).reset_index()"
      ]
    },
    {
      "cell_type": "code",
      "execution_count": null,
      "metadata": {
        "id": "bCLzwTZS06Jt"
      },
      "outputs": [],
      "source": [
        "table.plot.bar(x='Year',y=['Furniture', 'Office Supplies','Technology'],stacked=True)"
      ]
    },
    {
      "cell_type": "code",
      "execution_count": null,
      "metadata": {
        "id": "HcA5Cfml06Jt"
      },
      "outputs": [],
      "source": [
        "table.plot.bar(x='Year',y=['Furniture', 'Office Supplies','Technology'])"
      ]
    },
    {
      "cell_type": "code",
      "execution_count": null,
      "metadata": {
        "id": "Ikld233l06Jt"
      },
      "outputs": [],
      "source": [
        "table.plot.bar(x='Year',y=['Furniture', 'Office Supplies','Technology'])\n",
        "plt.xticks(rotation=0)\n",
        "plt.xlabel('Year of the Businesss')\n",
        "plt.ylabel(\"Sum of the sales amount\")\n",
        "plt.title(\" The Sales Details\")\n",
        "          \n",
        "plt.show()"
      ]
    },
    {
      "cell_type": "markdown",
      "metadata": {
        "id": "DKRW2uT306Ju"
      },
      "source": [
        "# Month wise analysis"
      ]
    },
    {
      "cell_type": "code",
      "execution_count": null,
      "metadata": {
        "id": "d7tdyU2J06Ju"
      },
      "outputs": [],
      "source": [
        "data.groupby(['Month','Category'])['Sales'].sum().reset_index()"
      ]
    },
    {
      "cell_type": "code",
      "execution_count": null,
      "metadata": {
        "id": "j-Ge7yOY06Ju"
      },
      "outputs": [],
      "source": [
        "data.groupby('Month')['Sales','Profit'].sum().plot(kind='bar')"
      ]
    },
    {
      "cell_type": "markdown",
      "metadata": {
        "id": "qs3T6LBg06Ju"
      },
      "source": [
        "## Month and Region Wise Exploration"
      ]
    },
    {
      "cell_type": "code",
      "execution_count": null,
      "metadata": {
        "id": "1d-cpUGk06Ju"
      },
      "outputs": [],
      "source": [
        "data.groupby([pd.Grouper(key='Ship Date', freq='M'), 'Region'])\\\n",
        "    .agg(unique_items=('Product ID', 'nunique'),\n",
        "         total_Sales=('Sales','sum'),\n",
        "         total_Profit=('Profit','sum')).head(20)"
      ]
    },
    {
      "cell_type": "code",
      "execution_count": null,
      "metadata": {
        "id": "pwe9ePdU06Jv"
      },
      "outputs": [],
      "source": []
    },
    {
      "cell_type": "code",
      "execution_count": null,
      "metadata": {
        "id": "1VFkX_Ui06Jv"
      },
      "outputs": [],
      "source": [
        "data.resample('M',on='Ship Date').Sales.sum().head(10)"
      ]
    },
    {
      "cell_type": "code",
      "execution_count": null,
      "metadata": {
        "id": "PUC-CzTy06Jv"
      },
      "outputs": [],
      "source": []
    },
    {
      "cell_type": "code",
      "execution_count": null,
      "metadata": {
        "id": "2Wh7GLlr06Jv"
      },
      "outputs": [],
      "source": [
        "data_M= data.resample('M',on='Order Date').Sales.sum()"
      ]
    },
    {
      "cell_type": "code",
      "execution_count": null,
      "metadata": {
        "id": "DEyyvAed06Jv"
      },
      "outputs": [],
      "source": [
        "data_M= pd.DataFrame(data_M).reset_index()\n",
        "data_M.head()"
      ]
    },
    {
      "cell_type": "code",
      "execution_count": null,
      "metadata": {
        "id": "D2dgPdct06Jv"
      },
      "outputs": [],
      "source": []
    },
    {
      "cell_type": "markdown",
      "metadata": {
        "id": "YsLgBED-06Jw"
      },
      "source": [
        "## Filtering"
      ]
    },
    {
      "cell_type": "code",
      "execution_count": null,
      "metadata": {
        "id": "IoLc4Vjx06Jw"
      },
      "outputs": [],
      "source": [
        "dl= data.set_index('Order Date')\n",
        "dl.loc['2016':'2017']"
      ]
    },
    {
      "cell_type": "code",
      "execution_count": null,
      "metadata": {
        "id": "P9dNGqaC06Jw"
      },
      "outputs": [],
      "source": [
        "data.loc[data['Region']== 'South',['Region','Sales'] ]"
      ]
    },
    {
      "cell_type": "markdown",
      "metadata": {
        "id": "skldMoNS06Jw"
      },
      "source": [
        "###  Interactive Graph  with Slide Bar using Plotly"
      ]
    },
    {
      "cell_type": "code",
      "execution_count": null,
      "metadata": {
        "id": "K__Qg4QE06Jw"
      },
      "outputs": [],
      "source": [
        "import plotly.express as px\n",
        "fig = px.line(data_M, x = 'Order Date',y='Sales',title = 'Monthly Sales')\n",
        "\n",
        "fig.update_xaxes(rangeslider_visible=True)\n",
        "fig.show()   "
      ]
    },
    {
      "cell_type": "markdown",
      "metadata": {
        "id": "pDDshhWB06Jw"
      },
      "source": [
        "# RFM Analysis"
      ]
    },
    {
      "cell_type": "markdown",
      "metadata": {
        "id": "T_HMTocL06Jx"
      },
      "source": [
        "#### RFM stands for Recency, Frequency, and Monetary value, each corresponding to some key customer trait. These RFM metrics are important indicators of a customer’s behavior because frequency and monetary value affects a customer’s lifetime value, and recency affects retention, a measure of engagement."
      ]
    },
    {
      "cell_type": "markdown",
      "metadata": {
        "id": "Gs9AFlt706Jx"
      },
      "source": [
        "\n",
        "#### Recency: The number of days between present date (i.e. Today) and date of last purchase of each customer. First define today's date and then get the `.max()` function of `InvoiceDate` to calculate the number of days between today and date of last purchase.\n",
        "\n",
        "####  Frequency: How often has a customer transacted or interacted with the brand during a particular period of time? Clearly, customers with frequent activities are more engaged, and probably more loyal, than customers who rarely do so. And one-time-only customers are in a class of their own.\n",
        "\n",
        "####  Monetary: Also referred to as “monetary value,” this factor reflects how much a customer has spent with the brand during a particular period of time. Big spenders should usually be treated differently than customers who spend little. Looking at monetary divided by frequency indicates the average purchase amount – an important secondary factor to consider when segmenting customers."
      ]
    },
    {
      "cell_type": "code",
      "execution_count": null,
      "metadata": {
        "id": "9vA23Q7u06Jx"
      },
      "outputs": [],
      "source": []
    },
    {
      "cell_type": "markdown",
      "metadata": {
        "id": "A_pxrjOL06Jx"
      },
      "source": [
        "###  RFM factors illustrate these facts:\n",
        "##### the more recent the purchase, the more responsive the customer is to promotions\n",
        "##### the more frequently the customer buys, the more engaged and satisfied they are\n",
        "##### monetary value differentiates heavy spenders from low-value purchasers   "
      ]
    },
    {
      "cell_type": "code",
      "execution_count": null,
      "metadata": {
        "id": "OY_fC3qj06Jy"
      },
      "outputs": [],
      "source": []
    },
    {
      "cell_type": "markdown",
      "metadata": {
        "id": "s-YuZrWQ06Jy"
      },
      "source": [
        "### The maximum and minimum date "
      ]
    },
    {
      "cell_type": "code",
      "execution_count": null,
      "metadata": {
        "id": "GJ15_Y8L06Jy"
      },
      "outputs": [],
      "source": [
        "data['Order Date'].max(), data['Order Date'].min()"
      ]
    },
    {
      "cell_type": "code",
      "execution_count": null,
      "metadata": {
        "id": "QgoU8sJb06Jy"
      },
      "outputs": [],
      "source": [
        "\n",
        "TODAY = dt.datetime(2017,12,31)"
      ]
    },
    {
      "cell_type": "code",
      "execution_count": null,
      "metadata": {
        "id": "6Z6lnOOo06Jz"
      },
      "outputs": [],
      "source": [
        "rfm = data.groupby(\"Customer ID\").agg({\"Order Date\": lambda date: (TODAY - date.max()).days,\n",
        "                                        \"Order ID\": lambda num: num.nunique(),\n",
        "                                        \"Sales\": lambda price: price.sum()})"
      ]
    },
    {
      "cell_type": "code",
      "execution_count": null,
      "metadata": {
        "id": "YfXWY_hO06Jz"
      },
      "outputs": [],
      "source": [
        "# Change the name of columns\n",
        "rfm.columns=[\"recency\", \"frequency\", \"monetary\"]"
      ]
    },
    {
      "cell_type": "code",
      "execution_count": null,
      "metadata": {
        "id": "iVObPxK906Jz"
      },
      "outputs": [],
      "source": [
        "rfm"
      ]
    },
    {
      "cell_type": "code",
      "execution_count": null,
      "metadata": {
        "id": "7Qg2q8jG06Jz"
      },
      "outputs": [],
      "source": [
        "print(\"Recency: {} to {}\".format(rfm.recency.min(), rfm.recency.max()))\n",
        "print(\"Frequency: {} to {}\".format(rfm.frequency.min(), rfm.frequency.max()))\n",
        "print(\"Monetary: {} to {}\".format(rfm.monetary.min(), rfm.monetary.max()))"
      ]
    },
    {
      "cell_type": "markdown",
      "metadata": {
        "id": "p84JuGRi06Jz"
      },
      "source": [
        "# Customer Life Time Value"
      ]
    },
    {
      "cell_type": "markdown",
      "metadata": {
        "id": "EY3oUZ8Q06J0"
      },
      "source": [
        "####  Customer Lifetime Value is a monetary value that represents the amount of revenue or profit a customer will give the company over the period of the relationship\" (Source). CLTV demonstrates the implications of acquiring long-term customers compare to short-term customers. Customer lifetime value (CLV) can help you to answers the most important questions about sales to every company: "
      ]
    },
    {
      "cell_type": "markdown",
      "metadata": {
        "id": "EQuy4axa06J0"
      },
      "source": [
        "\n",
        "    How to Identify the most profitable customers?\n",
        "    How can a company offer the best product and make the most money?\n",
        "    How to segment profitable customers?\n",
        "    How much budget need to spend to acquire customers?\n"
      ]
    },
    {
      "cell_type": "markdown",
      "metadata": {
        "id": "YcsXZYMY06J0"
      },
      "source": [
        "# Aggregate Model"
      ]
    },
    {
      "cell_type": "markdown",
      "metadata": {
        "id": "xcgyB-ze06J0"
      },
      "source": [
        "The most simplest and the oldest method of computing CLV is this Aggregate/Average method. This assumes a constant average spend and churn rate for all the customers.\n",
        "\n",
        "This method does not differentiate between customers and produces a single value for CLV at an overall Level. This leads to unrealistic estimates if some of the customers transacted in high value and high volume, which ultimately skews the average CLV value.\n",
        "\n",
        "The General Formula for calculating CLV is:\n"
      ]
    },
    {
      "cell_type": "markdown",
      "metadata": {
        "id": "4Y5uYT-E06J1"
      },
      "source": [
        "### CLV = ((Average Sales X Purchase Frequency) / Churn) X Profit Margin  "
      ]
    },
    {
      "cell_type": "markdown",
      "metadata": {
        "id": "fro_mzey06J1"
      },
      "source": [
        "**Where,**  \n",
        "  **Average Sales = TotalSales/Total no. of orders**\n",
        "   \n",
        "   **Purchase Frequency = Total no. of orders/Total unique customers**\n",
        "   \n",
        "   **Retention rate = Total no. of orders greater than 1/ Total unique customers**\n",
        "   \n",
        "   **Churn = 1 - Retention rate**\n",
        "   \n",
        "   **Profit Margin = Based on business context**"
      ]
    },
    {
      "cell_type": "markdown",
      "metadata": {
        "id": "OvNY8hvm06J1"
      },
      "source": [
        "In this example case,  the Profit margin for each transaction is assumed to be 5%."
      ]
    },
    {
      "cell_type": "markdown",
      "metadata": {
        "id": "iwn5hylD06J1"
      },
      "source": [
        "### Slicing Data for CLV Analaysis"
      ]
    },
    {
      "cell_type": "code",
      "execution_count": null,
      "metadata": {
        "id": "nPLjAJva06J2"
      },
      "outputs": [],
      "source": [
        "data_clv= data[['Customer ID','Order ID', 'Order Date', 'Sales']]\n",
        "data_clv.head(2)"
      ]
    },
    {
      "cell_type": "code",
      "execution_count": null,
      "metadata": {
        "id": "dS-XJ33z06J2"
      },
      "outputs": [],
      "source": [
        "\n",
        "customer = data_clv.groupby('Customer ID').agg({'Order Date':lambda x: (x.max() - x.min()).days, \n",
        "                                                   'Order ID': lambda x: len(x),\n",
        "                                                  'Sales': lambda x: sum(x)})\n",
        "\n",
        "customer.columns = ['Days', 'Frequency', 'TotalSales']\n",
        "customer.head()"
      ]
    },
    {
      "cell_type": "code",
      "execution_count": null,
      "metadata": {
        "id": "gWT8-wWi5LGM"
      },
      "outputs": [],
      "source": [
        "customer.shape"
      ]
    },
    {
      "cell_type": "code",
      "execution_count": null,
      "metadata": {
        "id": "qvPurqxo06J2"
      },
      "outputs": [],
      "source": [
        "data_clv['Order Date'].max()"
      ]
    },
    {
      "cell_type": "code",
      "execution_count": null,
      "metadata": {
        "id": "9w8J3hly06J2"
      },
      "outputs": [],
      "source": [
        "data_clv['Order Date'].min()"
      ]
    },
    {
      "cell_type": "code",
      "execution_count": null,
      "metadata": {
        "id": "ZivPfaM206J2"
      },
      "outputs": [],
      "source": []
    },
    {
      "cell_type": "code",
      "execution_count": null,
      "metadata": {
        "id": "Ln2CMEGM06J3"
      },
      "outputs": [],
      "source": [
        "# Calculating the necessary variables for CLV calculation\n",
        "Average_sales = round(np.mean(customer['TotalSales']),2)\n",
        "print(f\"Average sales: ${Average_sales}\")\n",
        "\n",
        "Purchase_freq = round(np.mean(customer['Frequency']), 2)\n",
        "print(f\"Purchase Frequency: {Purchase_freq}\")\n",
        "\n",
        "Retention_rate = customer[customer['Frequency']>1].shape[0]/customer.shape[0]\n",
        "churn = round(1 - Retention_rate, 2)\n",
        "print(f\"Churn: {churn}%\")"
      ]
    },
    {
      "cell_type": "code",
      "execution_count": null,
      "metadata": {
        "id": "Bi6Tt2jp06J3"
      },
      "outputs": [],
      "source": [
        "customer['TotalSales'].mean()"
      ]
    },
    {
      "cell_type": "code",
      "execution_count": null,
      "metadata": {
        "id": "s8HjlXuV06J3"
      },
      "outputs": [],
      "source": [
        "# Calculating the CLV\n",
        "Profit_margin = 0.05 \n",
        "\n",
        "CLV = round(((Average_sales * Purchase_freq/churn)) * Profit_margin, 2)\n",
        "print(f\"The Customer Lifetime Value (CLV) for each customer is: ${CLV}\")"
      ]
    },
    {
      "cell_type": "code",
      "source": [],
      "metadata": {
        "id": "Ksu93KbsW8CC"
      },
      "execution_count": null,
      "outputs": []
    },
    {
      "cell_type": "code",
      "execution_count": null,
      "metadata": {
        "id": "NTomEXRp06J3"
      },
      "outputs": [],
      "source": []
    },
    {
      "cell_type": "markdown",
      "metadata": {
        "id": "CMO3B2uf06J3"
      },
      "source": [
        "#   Conversion Rate"
      ]
    },
    {
      "cell_type": "code",
      "execution_count": null,
      "metadata": {
        "id": "J9giOekq06J3"
      },
      "outputs": [],
      "source": [
        "data.groupby('Year')['Order ID'].count()"
      ]
    },
    {
      "cell_type": "code",
      "execution_count": null,
      "metadata": {
        "id": "IlYt_mux06J4"
      },
      "outputs": [],
      "source": [
        "dt= pd.DataFrame(data.groupby('Year')['Order ID'].count()).reset_index()\n",
        "dt.columns=['Year', 'No. of Transactions']\n",
        "dt"
      ]
    },
    {
      "cell_type": "code",
      "execution_count": null,
      "metadata": {
        "id": "WXHLVuJ106J4"
      },
      "outputs": [],
      "source": [
        "dt['Footfall']= [10000,15000,20000,25000,30000]"
      ]
    },
    {
      "cell_type": "code",
      "execution_count": null,
      "metadata": {
        "id": "u1fHLxpN06J4"
      },
      "outputs": [],
      "source": [
        "dt"
      ]
    },
    {
      "cell_type": "code",
      "execution_count": null,
      "metadata": {
        "id": "jpG4IP7Q06J4"
      },
      "outputs": [],
      "source": [
        "dt['Conversion Rate']= dt['No. of Transactions']/dt['Footfall']*100\n",
        "dt"
      ]
    },
    {
      "cell_type": "code",
      "execution_count": null,
      "metadata": {
        "id": "eHM_pcur06J4"
      },
      "outputs": [],
      "source": []
    },
    {
      "cell_type": "markdown",
      "metadata": {
        "id": "bh4KTEFN06J5"
      },
      "source": [
        "# Market Basket Analysis"
      ]
    },
    {
      "cell_type": "markdown",
      "metadata": {
        "id": "CtUhq-Ov06J5"
      },
      "source": [
        "# Frequency of Most Popular Item "
      ]
    },
    {
      "cell_type": "code",
      "execution_count": null,
      "metadata": {
        "id": "9f3TU68p06J5"
      },
      "outputs": [],
      "source": [
        "# looking at the frequency of most popular items \n",
        "\n",
        "plt.rcParams['figure.figsize'] = (18, 7)\n",
        "color = plt.cm.copper(np.linspace(0, 1, 20))\n",
        "data['Product Name'].value_counts().head(40).plot.bar(color = color)\n",
        "plt.title('frequency of most popular items', fontsize = 20)\n",
        "plt.xticks(rotation = 90 )\n",
        "plt.grid()\n",
        "plt.show()"
      ]
    },
    {
      "cell_type": "code",
      "execution_count": null,
      "metadata": {
        "id": "ARMhpT3A06J5"
      },
      "outputs": [],
      "source": []
    },
    {
      "cell_type": "code",
      "execution_count": null,
      "metadata": {
        "id": "l0xspI0j06J5"
      },
      "outputs": [],
      "source": [
        "y = data['Product Name'].value_counts().head(50).to_frame()\n"
      ]
    },
    {
      "cell_type": "code",
      "execution_count": null,
      "metadata": {
        "id": "0CvSyIlr06J6"
      },
      "outputs": [],
      "source": [
        "# plotting \n",
        "\n",
        "plt.rcParams['figure.figsize'] = (20, 20)\n",
        "color = plt.cm.cool(np.linspace(0, 1, 50))\n",
        "squarify.plot(sizes = y.values, label = y.index, alpha=.8, color = color)\n",
        "plt.title('Tree Map for Popular Items')\n",
        "plt.axis('off')\n",
        "plt.show()"
      ]
    },
    {
      "cell_type": "code",
      "execution_count": null,
      "metadata": {
        "id": "D3hvh0gh06J6"
      },
      "outputs": [],
      "source": [
        "\n",
        "\n",
        "from wordcloud import WordCloud\n",
        "\n",
        "plt.rcParams['figure.figsize'] = (15, 15)\n",
        "wordcloud = WordCloud(background_color = 'white', width = 1200,  height = 1200, max_words = 121).generate(str(data['Product Name']))\n",
        "plt.imshow(wordcloud)\n",
        "plt.axis('off')\n",
        "plt.title('Most Popular Items',fontsize = 20)\n",
        "plt.show()"
      ]
    },
    {
      "cell_type": "code",
      "execution_count": null,
      "metadata": {
        "id": "gEsat5hn06J6"
      },
      "outputs": [],
      "source": []
    },
    {
      "cell_type": "code",
      "execution_count": null,
      "metadata": {
        "id": "yxEca_-B06J6"
      },
      "outputs": [],
      "source": [
        "!pip install mlxtend"
      ]
    },
    {
      "cell_type": "code",
      "execution_count": null,
      "metadata": {
        "id": "Rqh7-dQI7XTl"
      },
      "outputs": [],
      "source": [
        "from mlxtend.frequent_patterns import apriori\n",
        "from mlxtend.frequent_patterns import association_rules"
      ]
    },
    {
      "cell_type": "code",
      "execution_count": null,
      "metadata": {
        "id": "YncQm1KV7zV_"
      },
      "outputs": [],
      "source": []
    },
    {
      "cell_type": "code",
      "execution_count": null,
      "metadata": {
        "id": "5oyVeH4c06J6"
      },
      "outputs": [],
      "source": [
        "data['Product Name'].value_counts().head(10)"
      ]
    },
    {
      "cell_type": "code",
      "execution_count": null,
      "metadata": {
        "id": "W0xLlhDO06J6"
      },
      "outputs": [],
      "source": [
        "df=data.groupby(\"Product Name\").filter(lambda x: len(x) > 14)\n",
        "df.head()"
      ]
    },
    {
      "cell_type": "code",
      "execution_count": null,
      "metadata": {
        "id": "bWr6ulI706J7"
      },
      "outputs": [],
      "source": [
        "df['Product Name'].value_counts()"
      ]
    },
    {
      "cell_type": "code",
      "execution_count": null,
      "metadata": {
        "id": "dw92Ja_a06J7"
      },
      "outputs": [],
      "source": [
        "dt= df.groupby(['Order ID','Product Name'])['Quantity'].sum().unstack().reset_index().fillna(0).set_index('Order ID')\n",
        "dt"
      ]
    },
    {
      "cell_type": "code",
      "execution_count": null,
      "metadata": {
        "id": "VyWzcTa506J7"
      },
      "outputs": [],
      "source": [
        "def one_hot_encode(x):\n",
        "    if x <= 0:\n",
        "        return 0\n",
        "    if x >= 1:\n",
        "        return 1\n",
        "\n",
        "dt_encode= dt.applymap(one_hot_encode)"
      ]
    },
    {
      "cell_type": "code",
      "execution_count": null,
      "metadata": {
        "id": "AsHynuho06J7"
      },
      "outputs": [],
      "source": [
        "dt_efilter= dt_encode[(dt_encode >0).sum(axis=1)>=2]"
      ]
    },
    {
      "cell_type": "code",
      "execution_count": null,
      "metadata": {
        "id": "81lBjKrq06J7"
      },
      "outputs": [],
      "source": [
        "dt_efilter"
      ]
    },
    {
      "cell_type": "code",
      "execution_count": null,
      "metadata": {
        "id": "NXGW67al06J8"
      },
      "outputs": [],
      "source": []
    },
    {
      "cell_type": "code",
      "execution_count": null,
      "metadata": {
        "id": "7uPUOkxA06J8"
      },
      "outputs": [],
      "source": [
        "frequent_itemsets_plus= apriori(dt_efilter, min_support= 0.05,use_colnames= True).sort_values('support', ascending= False).reset_index(drop=True)"
      ]
    },
    {
      "cell_type": "code",
      "execution_count": null,
      "metadata": {
        "id": "8BSKsufs06J8"
      },
      "outputs": [],
      "source": [
        "rules = association_rules(frequent_itemsets_plus, metric=\"lift\", min_threshold=2)\n",
        "rules"
      ]
    },
    {
      "cell_type": "code",
      "execution_count": null,
      "metadata": {
        "id": "OCUhVebm06J8"
      },
      "outputs": [],
      "source": []
    }
  ],
  "metadata": {
    "colab": {
      "provenance": []
    },
    "kernelspec": {
      "display_name": "Python 3",
      "language": "python",
      "name": "python3"
    },
    "language_info": {
      "codemirror_mode": {
        "name": "ipython",
        "version": 3
      },
      "file_extension": ".py",
      "mimetype": "text/x-python",
      "name": "python",
      "nbconvert_exporter": "python",
      "pygments_lexer": "ipython3",
      "version": "3.7.6"
    }
  },
  "nbformat": 4,
  "nbformat_minor": 0
}